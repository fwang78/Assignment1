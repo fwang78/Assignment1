{
 "cells": [
  {
   "cell_type": "code",
   "execution_count": null,
   "metadata": {},
   "outputs": [],
   "source": [
    "import pandas as pd\n",
    "import numpy as np\n",
    "import matplotlib.pylab as plt\n",
    "%matplotlib inline\n",
    "\n",
    "from sklearn.tree import DecisionTreeClassifier\n",
    "from sklearn.linear_model import LogisticRegression\n",
    "from sklearn.metrics import accuracy_score\n",
    "from sklearn.model_selection import train_test_split\n",
    "from sklearn.model_selection import cross_val_score\n",
    "\n",
    "data = pd.read_csv(\"files/mailing.csv\")\n",
    "X = data.drop(['class'], 1)\n",
    "Y = data['class']\n",
    "\n",
    "data.head()\n",
    "X.head()\n",
    "Y.head()\n",
    "\n",
    "tree = DecisionTreeClassifier(criterion=\"entropy\")\n",
    "tree.fit(X, Y)\n",
    "Y_predicted = tree.predict(X)\n",
    "accuracy = accuracy_score(Y_predicted, Y)\n",
    "print(\"The accuracy is \" + str(accuracy))\n",
    "\n",
    "Y.mean()\n",
    "\n",
    "X_train, X_test, Y_train, Y_test = train_test_split(X, Y, train_size=0.70)\n",
    "tree = DecisionTreeClassifier(criterion=\"entropy\")\n",
    "tree.fit(X_train, Y_train)\n",
    "Y_test_predicted = tree.predict(X_test)\n",
    "accuracy = accuracy_score(Y_test_predicted, Y_test)\n",
    "print(\"The accuracy is \" + str(accuracy))\n",
    "\n",
    "tree = DecisionTreeClassifier(criterion=\"entropy\")\n",
    "cross_fold_accuracies = cross_val_score(tree, X, Y, scoring=\"accuracy\", cv=5)\n",
    "average_cross_fold_accuracy = np.mean(cross_fold_accuracies)\n",
    "for fold in cross_fold_accuracies:\n",
    "    print(fold)\n",
    "print(average_cross_fold_accuracy)\n",
    "\n",
    "import random\n",
    "random.seed(9001)\n",
    "\n",
    "training_percentages = [0.10, 0.20, 0.30, 0.40, 0.50, 0.60, 0.70, 0.80]\n",
    "accuracies = []\n",
    "\n",
    "for training_percentage in training_percentages:\n",
    "    X_train, X_test, Y_train, Y_test = train_test_split(X, Y, train_size=training_percentage)\n",
    "    tree = DecisionTreeClassifier(criterion=\"entropy\")\n",
    "    tree.fit(X_train, Y_train)\n",
    "    Y_test_predicted = tree.predict(X_test)\n",
    "    acc = accuracy_score(Y_test_predicted, Y_test)\n",
    "    accuracies.append(acc)\n",
    "plt.plot(training_percentages, accuracies)\n",
    "plt.show()"
   ]
  }
 ],
 "metadata": {
  "kernelspec": {
   "display_name": "Python 3",
   "language": "python",
   "name": "python3"
  },
  "language_info": {
   "codemirror_mode": {
    "name": "ipython",
    "version": 3
   },
   "file_extension": ".py",
   "mimetype": "text/x-python",
   "name": "python",
   "nbconvert_exporter": "python",
   "pygments_lexer": "ipython3",
   "version": "3.8.3"
  }
 },
 "nbformat": 4,
 "nbformat_minor": 4
}
